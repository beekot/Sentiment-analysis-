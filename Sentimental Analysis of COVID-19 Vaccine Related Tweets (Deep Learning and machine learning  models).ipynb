{
 "cells": [
  {
   "cell_type": "markdown",
   "metadata": {},
   "source": [
    "# We used Keras deep learning library to build and test three different types of deep neural networks. First is the Densely connected neural network, the second is the Convolutional Neural Network CNN, and the third is  the Long Short Term Memory Network LSTM. "
   ]
  },
  {
   "cell_type": "code",
   "execution_count": 1,
   "metadata": {},
   "outputs": [],
   "source": [
    "# importing the python libraries\n",
    "\n",
    "import pandas as pd\n",
    "import numpy as np\n",
    "import re\n",
    "import nltk\n",
    "from nltk.corpus import stopwords\n",
    "\n",
    "from numpy import array\n",
    "from keras.preprocessing.text import one_hot\n",
    "from keras.preprocessing.sequence import pad_sequences\n",
    "from keras.models import Sequential\n",
    "from keras.layers.core import Activation, Dropout, Dense\n",
    "from keras.layers import Flatten\n",
    "from keras.layers import GlobalMaxPooling1D\n",
    "from keras.layers.embeddings import Embedding\n",
    "from sklearn.model_selection import train_test_split\n",
    "from keras.preprocessing.text import Tokenizer"
   ]
  },
  {
   "cell_type": "markdown",
   "metadata": {},
   "source": [
    "# Importing covid vaccine dataset."
   ]
  },
  {
   "cell_type": "code",
   "execution_count": 2,
   "metadata": {},
   "outputs": [
    {
     "data": {
      "text/plain": [
       "(2134, 2)"
      ]
     },
     "execution_count": 2,
     "metadata": {},
     "output_type": "execute_result"
    }
   ],
   "source": [
    "Covid_reviews = pd.read_csv(\"C:\\covid vaccine dataset (V2).csv\")\n",
    "\n",
    "Covid_reviews.isnull().values.any()\n",
    "\n",
    "Covid_reviews.shape"
   ]
  },
  {
   "cell_type": "code",
   "execution_count": 3,
   "metadata": {},
   "outputs": [
    {
     "data": {
      "text/html": [
       "<div>\n",
       "<style scoped>\n",
       "    .dataframe tbody tr th:only-of-type {\n",
       "        vertical-align: middle;\n",
       "    }\n",
       "\n",
       "    .dataframe tbody tr th {\n",
       "        vertical-align: top;\n",
       "    }\n",
       "\n",
       "    .dataframe thead th {\n",
       "        text-align: right;\n",
       "    }\n",
       "</style>\n",
       "<table border=\"1\" class=\"dataframe\">\n",
       "  <thead>\n",
       "    <tr style=\"text-align: right;\">\n",
       "      <th></th>\n",
       "      <th>review</th>\n",
       "      <th>sentiment</th>\n",
       "    </tr>\n",
       "  </thead>\n",
       "  <tbody>\n",
       "    <tr>\n",
       "      <th>0</th>\n",
       "      <td>a worthwhile read on the prospects of covid19v...</td>\n",
       "      <td>positive</td>\n",
       "    </tr>\n",
       "    <tr>\n",
       "      <th>1</th>\n",
       "      <td>regardless of the election outcome not much wi...</td>\n",
       "      <td>positive</td>\n",
       "    </tr>\n",
       "    <tr>\n",
       "      <th>2</th>\n",
       "      <td>some good news in the fight against covid19 tc...</td>\n",
       "      <td>positive</td>\n",
       "    </tr>\n",
       "    <tr>\n",
       "      <th>3</th>\n",
       "      <td>there will be positive developments regarding ...</td>\n",
       "      <td>positive</td>\n",
       "    </tr>\n",
       "    <tr>\n",
       "      <th>4</th>\n",
       "      <td>how about the unfunded plan to distribute any ...</td>\n",
       "      <td>neutral</td>\n",
       "    </tr>\n",
       "  </tbody>\n",
       "</table>\n",
       "</div>"
      ],
      "text/plain": [
       "                                              review sentiment\n",
       "0  a worthwhile read on the prospects of covid19v...  positive\n",
       "1  regardless of the election outcome not much wi...  positive\n",
       "2  some good news in the fight against covid19 tc...  positive\n",
       "3  there will be positive developments regarding ...  positive\n",
       "4  how about the unfunded plan to distribute any ...   neutral"
      ]
     },
     "execution_count": 3,
     "metadata": {},
     "output_type": "execute_result"
    }
   ],
   "source": [
    "# Reviewing the frist 4 columns \n",
    "Covid_reviews.head()"
   ]
  },
  {
   "cell_type": "code",
   "execution_count": 4,
   "metadata": {},
   "outputs": [
    {
     "data": {
      "text/plain": [
       "'there will be positive developments regarding the vaccine in december but the virus will continue in the 2021calendar with the vaccines covid19vaccine trumpvsbiden2020 corona trumpcovid19 healthylifestyle health healthandsafety astrology breakingnews now'"
      ]
     },
     "execution_count": 4,
     "metadata": {},
     "output_type": "execute_result"
    }
   ],
   "source": [
    "# Double checking the dataset\n",
    "Covid_reviews[\"review\"][3]"
   ]
  },
  {
   "cell_type": "code",
   "execution_count": 5,
   "metadata": {},
   "outputs": [
    {
     "data": {
      "text/plain": [
       "<matplotlib.axes._subplots.AxesSubplot at 0x1bdbc3aba90>"
      ]
     },
     "execution_count": 5,
     "metadata": {},
     "output_type": "execute_result"
    },
    {
     "data": {
      "image/png": "[encoded data removed]",
      "text/plain": [
       "<Figure size 432x288 with 1 Axes>"
      ]
     },
     "metadata": {
      "needs_background": "light"
     },
     "output_type": "display_data"
    }
   ],
   "source": [
    "# comparing the ratios of Positive to neural to negative tweets\n",
    "import seaborn as sns\n",
    "sns.countplot(x='sentiment', data=Covid_reviews)"
   ]
  },
  {
   "cell_type": "markdown",
   "metadata": {},
   "source": [
    "# Preprocessing the data"
   ]
  },
  {
   "cell_type": "code",
   "execution_count": 6,
   "metadata": {},
   "outputs": [],
   "source": [
    "# function to clean the data they remove any unnecessary symbols like html tags, punctuations and numbers, and multiple spaces.\n",
    "def preprocess_text(sen):\n",
    "    # Removing html tags\n",
    "    sentence = remove_tags(sen)\n",
    "\n",
    "    # Remove punctuations and numbers\n",
    "    sentence = re.sub('[^a-zA-Z]', ' ', sentence)\n",
    "\n",
    "    # Single character removal\n",
    "    sentence = re.sub(r\"\\s+[a-zA-Z]\\s+\", ' ', sentence)\n",
    "\n",
    "    # Removing multiple spaces\n",
    "    sentence = re.sub(r'\\s+', ' ', sentence)\n",
    "\n",
    "    return sentence"
   ]
  },
  {
   "cell_type": "code",
   "execution_count": 7,
   "metadata": {},
   "outputs": [],
   "source": [
    "TAG_RE = re.compile(r'<[^>]+>')\n",
    "\n",
    "def remove_tags(text):\n",
    "    return TAG_RE.sub('', text)"
   ]
  },
  {
   "cell_type": "code",
   "execution_count": 8,
   "metadata": {},
   "outputs": [],
   "source": [
    "X = []\n",
    "sentences = list(Covid_reviews['review'])\n",
    "for sen in sentences:\n",
    "    X.append(preprocess_text(sen))"
   ]
  },
  {
   "cell_type": "code",
   "execution_count": 9,
   "metadata": {},
   "outputs": [
    {
     "data": {
      "text/plain": [
       "'there will be positive developments regarding the vaccine in december but the virus will continue in the calendar with the vaccines covid vaccine trumpvsbiden corona trumpcovid healthylifestyle health healthandsafety astrology breakingnews now'"
      ]
     },
     "execution_count": 9,
     "metadata": {},
     "output_type": "execute_result"
    }
   ],
   "source": [
    "# Double checking the cleaned dataset\n",
    "X[3]"
   ]
  },
  {
   "cell_type": "code",
   "execution_count": 10,
   "metadata": {},
   "outputs": [],
   "source": [
    "y = Covid_reviews['sentiment']\n",
    "\n",
    "y = np.array(list(map(lambda x: 1 if x==\"positive\" else 0, y)))"
   ]
  },
  {
   "cell_type": "code",
   "execution_count": 11,
   "metadata": {},
   "outputs": [],
   "source": [
    "X_train, X_test, y_train, y_test = train_test_split(X, y, test_size=0.20, random_state=42)"
   ]
  },
  {
   "cell_type": "code",
   "execution_count": 12,
   "metadata": {},
   "outputs": [],
   "source": [
    "tokenizer = Tokenizer(num_words=5000)\n",
    "tokenizer.fit_on_texts(X_train)\n",
    "\n",
    "X_train = tokenizer.texts_to_sequences(X_train)\n",
    "X_test = tokenizer.texts_to_sequences(X_test)"
   ]
  },
  {
   "cell_type": "code",
   "execution_count": 13,
   "metadata": {},
   "outputs": [],
   "source": [
    "# Adding 1 because of reserved 0 index\n",
    "vocab_size = len(tokenizer.word_index) + 1\n",
    "\n",
    "maxlen = 100\n",
    "\n",
    "X_train = pad_sequences(X_train, padding='post', maxlen=maxlen)\n",
    "X_test = pad_sequences(X_test, padding='post', maxlen=maxlen)"
   ]
  },
  {
   "cell_type": "code",
   "execution_count": 14,
   "metadata": {},
   "outputs": [],
   "source": [
    "from numpy import array\n",
    "from numpy import asarray\n",
    "from numpy import zeros\n",
    "\n",
    "embeddings_dictionary = dict()\n",
    "glove_file = open('C:/glove.6B.100d.txt', encoding=\"utf8\")\n",
    "\n",
    "for line in glove_file:\n",
    "    records = line.split()\n",
    "    word = records[0]\n",
    "    vector_dimensions = asarray(records[1:], dtype='float32')\n",
    "    embeddings_dictionary [word] = vector_dimensions\n",
    "glove_file.close()"
   ]
  },
  {
   "cell_type": "code",
   "execution_count": 15,
   "metadata": {},
   "outputs": [],
   "source": [
    "embedding_matrix = zeros((vocab_size, 100))\n",
    "for word, index in tokenizer.word_index.items():\n",
    "    embedding_vector = embeddings_dictionary.get(word)\n",
    "    if embedding_vector is not None:\n",
    "        embedding_matrix[index] = embedding_vector"
   ]
  },
  {
   "cell_type": "markdown",
   "metadata": {},
   "source": [
    "# building  the first neural network (Densely connected neural network)"
   ]
  },
  {
   "cell_type": "code",
   "execution_count": 16,
   "metadata": {},
   "outputs": [],
   "source": [
    "model = Sequential()\n",
    "embedding_layer = Embedding(vocab_size, 100, weights=[embedding_matrix], input_length=maxlen , trainable=False)\n",
    "model.add(embedding_layer)\n",
    "\n",
    "model.add(Flatten())\n",
    "model.add(Dense(1, activation='sigmoid'))"
   ]
  },
  {
   "cell_type": "code",
   "execution_count": 17,
   "metadata": {},
   "outputs": [
    {
     "name": "stdout",
     "output_type": "stream",
     "text": [
      "Model: \"sequential\"\n",
      "_________________________________________________________________\n",
      "Layer (type)                 Output Shape              Param #   \n",
      "=================================================================\n",
      "embedding (Embedding)        (None, 100, 100)          612600    \n",
      "_________________________________________________________________\n",
      "flatten (Flatten)            (None, 10000)             0         \n",
      "_________________________________________________________________\n",
      "dense (Dense)                (None, 1)                 10001     \n",
      "=================================================================\n",
      "Total params: 622,601\n",
      "Trainable params: 10,001\n",
      "Non-trainable params: 612,600\n",
      "_________________________________________________________________\n",
      "None\n"
     ]
    }
   ],
   "source": [
    "model.compile(optimizer='adam', loss='binary_crossentropy', metrics=['acc'])\n",
    "\n",
    "print(model.summary())"
   ]
  },
  {
   "cell_type": "code",
   "execution_count": 18,
   "metadata": {},
   "outputs": [
    {
     "name": "stdout",
     "output_type": "stream",
     "text": [
      "Epoch 1/6\n",
      "11/11 [==============================] - 0s 16ms/step - loss: 0.6797 - acc: 0.5568 - val_loss: 0.6401 - val_acc: 0.6433\n",
      "Epoch 2/6\n",
      "11/11 [==============================] - 0s 4ms/step - loss: 0.5935 - acc: 0.6740 - val_loss: 0.6247 - val_acc: 0.6520\n",
      "Epoch 3/6\n",
      "11/11 [==============================] - 0s 5ms/step - loss: 0.5431 - acc: 0.7275 - val_loss: 0.6027 - val_acc: 0.6930\n",
      "Epoch 4/6\n",
      "11/11 [==============================] - 0s 4ms/step - loss: 0.5006 - acc: 0.7802 - val_loss: 0.5897 - val_acc: 0.7018\n",
      "Epoch 5/6\n",
      "11/11 [==============================] - 0s 7ms/step - loss: 0.4685 - acc: 0.8117 - val_loss: 0.5787 - val_acc: 0.7135\n",
      "Epoch 6/6\n",
      "11/11 [==============================] - 0s 4ms/step - loss: 0.4413 - acc: 0.8300 - val_loss: 0.5694 - val_acc: 0.7047\n"
     ]
    }
   ],
   "source": [
    "history = model.fit(X_train, y_train, batch_size=128, epochs=6, verbose=1, validation_split=0.2)"
   ]
  },
  {
   "cell_type": "code",
   "execution_count": 19,
   "metadata": {},
   "outputs": [
    {
     "name": "stdout",
     "output_type": "stream",
     "text": [
      "14/14 [==============================] - 0s 1ms/step - loss: 0.5862 - acc: 0.6768\n"
     ]
    }
   ],
   "source": [
    "score = model.evaluate(X_test, y_test, verbose=1)"
   ]
  },
  {
   "cell_type": "code",
   "execution_count": 20,
   "metadata": {},
   "outputs": [
    {
     "name": "stdout",
     "output_type": "stream",
     "text": [
      "Test Score: 0.586188018321991\n",
      "Test Accuracy: 0.6768149733543396\n"
     ]
    }
   ],
   "source": [
    "print(\"Test Score:\", score[0])\n",
    "print(\"Test Accuracy:\", score[1])"
   ]
  },
  {
   "cell_type": "code",
   "execution_count": 21,
   "metadata": {},
   "outputs": [
    {
     "data": {
      "image/png": "[encoded data removed]",
      "text/plain": [
       "<Figure size 432x288 with 1 Axes>"
      ]
     },
     "metadata": {
      "needs_background": "light"
     },
     "output_type": "display_data"
    },
    {
     "data": {
      "image/png": "[encoded data removed]",
      "text/plain": [
       "<Figure size 432x288 with 1 Axes>"
      ]
     },
     "metadata": {
      "needs_background": "light"
     },
     "output_type": "display_data"
    }
   ],
   "source": [
    "import matplotlib.pyplot as plt\n",
    "plt.plot(history.history['acc'])\n",
    "plt.plot(history.history['val_acc'])\n",
    "plt.title('model accuracy')\n",
    "plt.ylabel('accuracy')\n",
    "plt.xlabel('epoch')\n",
    "plt.legend(['train','test'], loc='upper left')\n",
    "plt.show()\n",
    "\n",
    "plt.plot(history.history['loss'])\n",
    "plt.plot(history.history['val_loss'])\n",
    "\n",
    "plt.title('model loss')\n",
    "plt.ylabel('loss')\n",
    "plt.xlabel('epoch')\n",
    "plt.legend(['train','test'], loc='upper left')\n",
    "plt.show()"
   ]
  },
  {
   "cell_type": "markdown",
   "metadata": {},
   "source": [
    "# building  the Second neural network (Convolutional Neural Network CNN)"
   ]
  },
  {
   "cell_type": "code",
   "execution_count": 22,
   "metadata": {},
   "outputs": [],
   "source": [
    "from keras.layers.convolutional import Conv1D    \n",
    "from keras.models import Sequential    \n",
    "from keras.optimizers import Adam   \n",
    "model = Sequential()\n",
    "\n",
    "embedding_layer = Embedding(vocab_size, 100, weights=[embedding_matrix], input_length=maxlen , trainable=False)\n",
    "model.add(embedding_layer)\n",
    "\n",
    "model.add(Conv1D(128, 5, activation='relu'))\n",
    "model.add(GlobalMaxPooling1D())\n",
    "model.add(Dense(1, activation='sigmoid'))\n",
    "model.compile(optimizer='adam', loss='binary_crossentropy', metrics=['acc'])"
   ]
  },
  {
   "cell_type": "code",
   "execution_count": 23,
   "metadata": {},
   "outputs": [
    {
     "name": "stdout",
     "output_type": "stream",
     "text": [
      "Model: \"sequential_1\"\n",
      "_________________________________________________________________\n",
      "Layer (type)                 Output Shape              Param #   \n",
      "=================================================================\n",
      "embedding_1 (Embedding)      (None, 100, 100)          612600    \n",
      "_________________________________________________________________\n",
      "conv1d (Conv1D)              (None, 96, 128)           64128     \n",
      "_________________________________________________________________\n",
      "global_max_pooling1d (Global (None, 128)               0         \n",
      "_________________________________________________________________\n",
      "dense_1 (Dense)              (None, 1)                 129       \n",
      "=================================================================\n",
      "Total params: 676,857\n",
      "Trainable params: 64,257\n",
      "Non-trainable params: 612,600\n",
      "_________________________________________________________________\n",
      "None\n"
     ]
    }
   ],
   "source": [
    "print(model.summary())"
   ]
  },
  {
   "cell_type": "code",
   "execution_count": 24,
   "metadata": {},
   "outputs": [
    {
     "name": "stdout",
     "output_type": "stream",
     "text": [
      "Epoch 1/6\n",
      "11/11 [==============================] - 0s 37ms/step - loss: 0.6690 - acc: 0.5905 - val_loss: 0.6207 - val_acc: 0.6754\n",
      "Epoch 2/6\n",
      "11/11 [==============================] - 0s 28ms/step - loss: 0.5319 - acc: 0.7597 - val_loss: 0.5779 - val_acc: 0.7164\n",
      "Epoch 3/6\n",
      "11/11 [==============================] - 0s 27ms/step - loss: 0.4491 - acc: 0.8366 - val_loss: 0.5579 - val_acc: 0.7281\n",
      "Epoch 4/6\n",
      "11/11 [==============================] - 0s 25ms/step - loss: 0.3979 - acc: 0.8879 - val_loss: 0.5269 - val_acc: 0.7602\n",
      "Epoch 5/6\n",
      "11/11 [==============================] - 0s 29ms/step - loss: 0.3460 - acc: 0.9355 - val_loss: 0.5028 - val_acc: 0.7836\n",
      "Epoch 6/6\n",
      "11/11 [==============================] - 0s 29ms/step - loss: 0.3053 - acc: 0.9568 - val_loss: 0.4852 - val_acc: 0.7895\n",
      "14/14 [==============================] - 0s 3ms/step - loss: 0.4568 - acc: 0.8080\n"
     ]
    }
   ],
   "source": [
    "history = model.fit(X_train, y_train, batch_size=128, epochs=6, verbose=1, validation_split=0.2)\n",
    "\n",
    "score = model.evaluate(X_test, y_test, verbose=1)"
   ]
  },
  {
   "cell_type": "code",
   "execution_count": 25,
   "metadata": {},
   "outputs": [
    {
     "name": "stdout",
     "output_type": "stream",
     "text": [
      "Test Score: 0.4567773640155792\n",
      "Test Accuracy: 0.8079625368118286\n"
     ]
    }
   ],
   "source": [
    "print(\"Test Score:\", score[0])\n",
    "print(\"Test Accuracy:\", score[1])"
   ]
  },
  {
   "cell_type": "code",
   "execution_count": 26,
   "metadata": {},
   "outputs": [
    {
     "data": {
      "image/png": "[encoded data removed]",
      "text/plain": [
       "<Figure size 432x288 with 1 Axes>"
      ]
     },
     "metadata": {
      "needs_background": "light"
     },
     "output_type": "display_data"
    },
    {
     "data": {
      "image/png": "[encoded data removed]",
      "text/plain": [
       "<Figure size 432x288 with 1 Axes>"
      ]
     },
     "metadata": {
      "needs_background": "light"
     },
     "output_type": "display_data"
    }
   ],
   "source": [
    "import matplotlib.pyplot as plt\n",
    "\n",
    "plt.plot(history.history['acc'])\n",
    "plt.plot(history.history['val_acc'])\n",
    "\n",
    "plt.title('model accuracy')\n",
    "plt.ylabel('accuracy')\n",
    "plt.xlabel('epoch')\n",
    "plt.legend(['train','test'], loc = 'upper left')\n",
    "plt.show()\n",
    "\n",
    "plt.plot(history.history['loss'])\n",
    "plt.plot(history.history['val_loss'])\n",
    "\n",
    "plt.title('model loss')\n",
    "plt.ylabel('loss')\n",
    "plt.xlabel('epoch')\n",
    "plt.legend(['train','test'], loc = 'upper left')\n",
    "plt.show()"
   ]
  },
  {
   "cell_type": "markdown",
   "metadata": {},
   "source": [
    "# building  the Third neural network (Long Short Term Memory Network LSTM)"
   ]
  },
  {
   "cell_type": "code",
   "execution_count": 27,
   "metadata": {},
   "outputs": [],
   "source": [
    "from tensorflow.keras.layers import LSTM\n",
    "from tensorflow.keras.layers import Dense\n",
    "\n",
    "model = Sequential()\n",
    "embedding_layer = Embedding(vocab_size, 100, weights=[embedding_matrix], input_length=maxlen , trainable=False)\n",
    "model.add(embedding_layer)\n",
    "model.add(LSTM(128))\n",
    "\n",
    "model.add(Dense(1, activation='sigmoid'))\n",
    "model.compile(optimizer='adam', loss='binary_crossentropy', metrics=['acc'])"
   ]
  },
  {
   "cell_type": "code",
   "execution_count": 28,
   "metadata": {},
   "outputs": [
    {
     "name": "stdout",
     "output_type": "stream",
     "text": [
      "Model: \"sequential_2\"\n",
      "_________________________________________________________________\n",
      "Layer (type)                 Output Shape              Param #   \n",
      "=================================================================\n",
      "embedding_2 (Embedding)      (None, 100, 100)          612600    \n",
      "_________________________________________________________________\n",
      "lstm (LSTM)                  (None, 128)               117248    \n",
      "_________________________________________________________________\n",
      "dense_2 (Dense)              (None, 1)                 129       \n",
      "=================================================================\n",
      "Total params: 729,977\n",
      "Trainable params: 117,377\n",
      "Non-trainable params: 612,600\n",
      "_________________________________________________________________\n",
      "None\n"
     ]
    }
   ],
   "source": [
    "print(model.summary())"
   ]
  },
  {
   "cell_type": "code",
   "execution_count": 29,
   "metadata": {},
   "outputs": [
    {
     "name": "stdout",
     "output_type": "stream",
     "text": [
      "Epoch 1/6\n",
      "11/11 [==============================] - 2s 172ms/step - loss: 0.6926 - acc: 0.5187 - val_loss: 0.6934 - val_acc: 0.5058\n",
      "Epoch 2/6\n",
      "11/11 [==============================] - 1s 105ms/step - loss: 0.6902 - acc: 0.5209 - val_loss: 0.6912 - val_acc: 0.5058\n",
      "Epoch 3/6\n",
      "11/11 [==============================] - 1s 105ms/step - loss: 0.6837 - acc: 0.5714 - val_loss: 0.6930 - val_acc: 0.4942\n",
      "Epoch 4/6\n",
      "11/11 [==============================] - 1s 101ms/step - loss: 0.6946 - acc: 0.4806 - val_loss: 0.6935 - val_acc: 0.4942\n",
      "Epoch 5/6\n",
      "11/11 [==============================] - 1s 100ms/step - loss: 0.6933 - acc: 0.5004 - val_loss: 0.6931 - val_acc: 0.5058\n",
      "Epoch 6/6\n",
      "11/11 [==============================] - 1s 103ms/step - loss: 0.6923 - acc: 0.5209 - val_loss: 0.6934 - val_acc: 0.5058\n",
      "14/14 [==============================] - 0s 18ms/step - loss: 0.6911 - acc: 0.5363\n"
     ]
    }
   ],
   "source": [
    "history = model.fit(X_train, y_train, batch_size=128, epochs=6, verbose=1, validation_split=0.2)\n",
    "\n",
    "score = model.evaluate(X_test, y_test, verbose=1)"
   ]
  },
  {
   "cell_type": "code",
   "execution_count": 30,
   "metadata": {},
   "outputs": [
    {
     "name": "stdout",
     "output_type": "stream",
     "text": [
      "Test Score: 0.6911057233810425\n",
      "Test Accuracy: 0.5362997651100159\n"
     ]
    }
   ],
   "source": [
    "print(\"Test Score:\", score[0])\n",
    "print(\"Test Accuracy:\", score[1])"
   ]
  },
  {
   "cell_type": "code",
   "execution_count": 31,
   "metadata": {},
   "outputs": [
    {
     "data": {
      "image/png": "[encoded data removed]",
      "text/plain": [
       "<Figure size 432x288 with 1 Axes>"
      ]
     },
     "metadata": {
      "needs_background": "light"
     },
     "output_type": "display_data"
    },
    {
     "data": {
      "image/png": "[encoded data removed]",
      "text/plain": [
       "<Figure size 432x288 with 1 Axes>"
      ]
     },
     "metadata": {
      "needs_background": "light"
     },
     "output_type": "display_data"
    }
   ],
   "source": [
    "import matplotlib.pyplot as plt\n",
    "\n",
    "plt.plot(history.history['acc'])\n",
    "plt.plot(history.history['val_acc'])\n",
    "\n",
    "plt.title('model accuracy')\n",
    "plt.ylabel('accuracy')\n",
    "plt.xlabel('epoch')\n",
    "plt.legend(['train','test'], loc='upper left')\n",
    "plt.show()\n",
    "\n",
    "plt.plot(history.history['loss'])\n",
    "plt.plot(history.history['val_loss'])\n",
    "\n",
    "plt.title('model loss')\n",
    "plt.ylabel('loss')\n",
    "plt.xlabel('epoch')\n",
    "plt.legend(['train','test'], loc='upper left')\n",
    "plt.show()"
   ]
  },
  {
   "cell_type": "markdown",
   "metadata": {},
   "source": [
    "# Machine Learning Classifiers"
   ]
  },
  {
   "cell_type": "code",
   "execution_count": 1,
   "metadata": {},
   "outputs": [
    {
     "data": {
      "text/html": [
       "<div>\n",
       "<style scoped>\n",
       "    .dataframe tbody tr th:only-of-type {\n",
       "        vertical-align: middle;\n",
       "    }\n",
       "\n",
       "    .dataframe tbody tr th {\n",
       "        vertical-align: top;\n",
       "    }\n",
       "\n",
       "    .dataframe thead th {\n",
       "        text-align: right;\n",
       "    }\n",
       "</style>\n",
       "<table border=\"1\" class=\"dataframe\">\n",
       "  <thead>\n",
       "    <tr style=\"text-align: right;\">\n",
       "      <th></th>\n",
       "      <th>full_text</th>\n",
       "      <th>sentiment</th>\n",
       "    </tr>\n",
       "  </thead>\n",
       "  <tbody>\n",
       "    <tr>\n",
       "      <th>0</th>\n",
       "      <td>Thanks for having us back on your show to disc...</td>\n",
       "      <td>1</td>\n",
       "    </tr>\n",
       "    <tr>\n",
       "      <th>1</th>\n",
       "      <td>\" : For Whom The Bell Tolls?\"</td>\n",
       "      <td>3</td>\n",
       "    </tr>\n",
       "    <tr>\n",
       "      <th>2</th>\n",
       "      <td>I am not sure i fully agree with this and I kn...</td>\n",
       "      <td>1</td>\n",
       "    </tr>\n",
       "    <tr>\n",
       "      <th>3</th>\n",
       "      <td>Israeli to be tested in humans.</td>\n",
       "      <td>3</td>\n",
       "    </tr>\n",
       "    <tr>\n",
       "      <th>4</th>\n",
       "      <td>Democratic presidential nominee Joe Biden pled...</td>\n",
       "      <td>1</td>\n",
       "    </tr>\n",
       "  </tbody>\n",
       "</table>\n",
       "</div>"
      ],
      "text/plain": [
       "                                           full_text  sentiment\n",
       "0  Thanks for having us back on your show to disc...          1\n",
       "1                      \" : For Whom The Bell Tolls?\"          3\n",
       "2  I am not sure i fully agree with this and I kn...          1\n",
       "3                    Israeli to be tested in humans.          3\n",
       "4  Democratic presidential nominee Joe Biden pled...          1"
      ]
     },
     "execution_count": 1,
     "metadata": {},
     "output_type": "execute_result"
    }
   ],
   "source": [
    "import numpy as np\n",
    "import pandas as pd\n",
    "import matplotlib.pyplot as plt\n",
    "import seaborn as sns\n",
    "from sklearn import svm\n",
    "from sklearn.metrics import classification_report\n",
    "from sklearn.feature_extraction.text import TfidfVectorizer\n",
    "from sklearn.svm import SVC\n",
    "from sklearn.model_selection import train_test_split\n",
    "from sklearn.metrics import make_scorer, accuracy_score, f1_score\n",
    "from sklearn.metrics import confusion_matrix, roc_auc_score, recall_score, precision_score\n",
    "\n",
    "\n",
    "df1 = pd.read_csv(\"saved_tweets_totalclean.csv\")\n",
    "#Removing non-relevant variables\n",
    "df1=df1.drop(columns=['user','location','date','Unnamed: 0'],axis=1) \n",
    "df1.sentiment.replace(('positive', 'negative','neutral'), (1,2,3), inplace=True)\n",
    "#defining target varibale\n",
    "df_target=df1[['sentiment']].values\n",
    "df_var=df1.drop(columns=['sentiment'],axis=1).values\n",
    "df1.head() \n",
    "\n",
    "\n",
    "\n",
    "\n"
   ]
  },
  {
   "cell_type": "code",
   "execution_count": 2,
   "metadata": {},
   "outputs": [
    {
     "name": "stdout",
     "output_type": "stream",
     "text": [
      "Vectoriser fitted.\n",
      "No. of feature_words:  33092\n",
      "Data Transformed.\n"
     ]
    }
   ],
   "source": [
    "#splitting dataset into training and testing \n",
    "X_train, X_test, y_train, y_test = train_test_split(df_var, df_target, test_size = 0.25, random_state = 0)\n",
    "vectoriser = TfidfVectorizer(ngram_range=(1,2), max_features=500000)\n",
    "vectoriser.fit(X_train.ravel())\n",
    "print(f'Vectoriser fitted.')\n",
    "print('No. of feature_words: ', len(vectoriser.get_feature_names()))\n",
    "X_train = vectoriser.transform(X_train.ravel())\n",
    "X_test  = vectoriser.transform(X_test.ravel())\n",
    "print('Data Transformed.')"
   ]
  },
  {
   "cell_type": "code",
   "execution_count": 3,
   "metadata": {},
   "outputs": [
    {
     "name": "stdout",
     "output_type": "stream",
     "text": [
      "              precision    recall  f1-score   support\n",
      "\n",
      "           1       0.84      0.95      0.89       560\n",
      "           2       0.91      0.73      0.81       158\n",
      "           3       0.88      0.76      0.82       335\n",
      "\n",
      "    accuracy                           0.86      1053\n",
      "   macro avg       0.87      0.81      0.84      1053\n",
      "weighted avg       0.86      0.86      0.85      1053\n",
      "\n",
      "Your Model Accuracy is 0.8566001899335233\n"
     ]
    },
    {
     "data": {
      "image/png": "[encoded data removed]",
      "text/plain": [
       "<Figure size 432x288 with 2 Axes>"
      ]
     },
     "metadata": {
      "needs_background": "light"
     },
     "output_type": "display_data"
    }
   ],
   "source": [
    "\n",
    "def model_Evaluate(model):\n",
    "    \n",
    "    # Predict values for Test dataset\n",
    "    y_pred = model.predict(X_test) \n",
    "\n",
    "    # Print the evaluation metrics for the dataset.\n",
    "    print(classification_report(y_test, y_pred))\n",
    "    \n",
    "    # Compute and plot the Confusion matrix\n",
    "    cf_matrix = confusion_matrix(y_test, y_pred)\n",
    "\n",
    "    categories  = ['Negative','Positive','Neutral']\n",
    "    group_names = ['True Neg','False Pos', 'False Neg','True Pos']\n",
    "    group_percentages = ['{0:.2%}'.format(value) for value in cf_matrix.flatten() / np.sum(cf_matrix)]\n",
    "    score=accuracy_score(y_test,y_pred) \n",
    "    print(\"Your Model Accuracy is\", score)\n",
    "    labels = [f'{v1}\\n{v2}' for v1, v2 in zip(group_names,group_percentages)]\n",
    "    labels = np.asarray(labels).reshape(2,2)\n",
    "\n",
    "    sns.heatmap(cf_matrix,  cmap = 'Blues',fmt = '',\n",
    "                xticklabels = categories, yticklabels = categories,annot=True)\n",
    "\n",
    "    plt.xlabel(\"Predicted values\", fontdict = {'size':14}, labelpad = 10)\n",
    "    plt.ylabel(\"Actual values\"   , fontdict = {'size':14}, labelpad = 10)\n",
    "    plt.title (\"Confusion Matrix\", fontdict = {'size':18}, pad = 20)\n",
    "    \n",
    "# SVM classifer\n",
    "SVCmodel = svm.LinearSVC(random_state=10 ,C=150,tol=1e-5, max_iter=10000 )  \n",
    "SVCmodel.fit(X_train, y_train.ravel()) \n",
    "model_Evaluate(SVCmodel)  \n",
    "\n",
    "\n",
    "\n"
   ]
  },
  {
   "cell_type": "code",
   "execution_count": 4,
   "metadata": {},
   "outputs": [
    {
     "name": "stdout",
     "output_type": "stream",
     "text": [
      "              precision    recall  f1-score   support\n",
      "\n",
      "           1       0.90      0.90      0.90       560\n",
      "           2       0.88      0.75      0.81       158\n",
      "           3       0.81      0.87      0.83       335\n",
      "\n",
      "    accuracy                           0.87      1053\n",
      "   macro avg       0.86      0.84      0.85      1053\n",
      "weighted avg       0.87      0.87      0.86      1053\n",
      "\n",
      "Your Model Accuracy is 0.8651471984805318\n"
     ]
    },
    {
     "data": {
      "image/png": "[encoded data removed]",
      "text/plain": [
       "<Figure size 432x288 with 2 Axes>"
      ]
     },
     "metadata": {
      "needs_background": "light"
     },
     "output_type": "display_data"
    }
   ],
   "source": [
    "#  Decision Tree classifer ENTROPY\n",
    "from sklearn.tree import DecisionTreeClassifier\n",
    "clf = DecisionTreeClassifier(criterion = \"entropy\", random_state = 100, max_depth = 60, min_samples_leaf =1,min_samples_split=2)\n",
    "# Train Decision Tree Classifer\n",
    "clf = clf.fit(X_train,y_train)\n",
    "\n",
    "#Predict the response for test dataset\n",
    "y_pred = clf.predict(X_test)\n",
    "model_Evaluate(clf)  "
   ]
  },
  {
   "cell_type": "code",
   "execution_count": 6,
   "metadata": {},
   "outputs": [
    {
     "name": "stdout",
     "output_type": "stream",
     "text": [
      "              precision    recall  f1-score   support\n",
      "\n",
      "           1       0.81      0.88      0.84       560\n",
      "           2       0.82      0.58      0.68       158\n",
      "           3       0.74      0.74      0.74       335\n",
      "\n",
      "    accuracy                           0.79      1053\n",
      "   macro avg       0.79      0.73      0.75      1053\n",
      "weighted avg       0.79      0.79      0.78      1053\n",
      "\n",
      "Your Model Accuracy is 0.7882241215574549\n"
     ]
    },
    {
     "data": {
      "image/png": "[encoded data removed]",
      "text/plain": [
       "<Figure size 432x288 with 2 Axes>"
      ]
     },
     "metadata": {
      "needs_background": "light"
     },
     "output_type": "display_data"
    }
   ],
   "source": [
    "#  Decision Tree classifer GINI\n",
    "clf_gini = DecisionTreeClassifier(criterion = \"gini\", random_state = 100,max_depth=40, min_samples_leaf=1,min_samples_split=2) \n",
    "  \n",
    "\n",
    "clf_gini.fit(X_train, y_train) \n",
    "\n",
    "model_Evaluate(clf_gini)   "
   ]
  },
  {
   "cell_type": "markdown",
   "metadata": {},
   "source": [
    "# Code to get  vader score  for tweets and create as csv file"
   ]
  },
  {
   "cell_type": "code",
   "execution_count": 8,
   "metadata": {},
   "outputs": [
    {
     "data": {
      "text/html": [
       "<div>\n",
       "<style scoped>\n",
       "    .dataframe tbody tr th:only-of-type {\n",
       "        vertical-align: middle;\n",
       "    }\n",
       "\n",
       "    .dataframe tbody tr th {\n",
       "        vertical-align: top;\n",
       "    }\n",
       "\n",
       "    .dataframe thead th {\n",
       "        text-align: right;\n",
       "    }\n",
       "</style>\n",
       "<table border=\"1\" class=\"dataframe\">\n",
       "  <thead>\n",
       "    <tr style=\"text-align: right;\">\n",
       "      <th></th>\n",
       "      <th>full_text</th>\n",
       "      <th>sentiment</th>\n",
       "      <th>VADER_score</th>\n",
       "    </tr>\n",
       "  </thead>\n",
       "  <tbody>\n",
       "    <tr>\n",
       "      <th>0</th>\n",
       "      <td>Thanks for having us back on your show to disc...</td>\n",
       "      <td>1</td>\n",
       "      <td>0.7430</td>\n",
       "    </tr>\n",
       "    <tr>\n",
       "      <th>1</th>\n",
       "      <td>\" : For Whom The Bell Tolls?\"</td>\n",
       "      <td>3</td>\n",
       "      <td>0.0000</td>\n",
       "    </tr>\n",
       "    <tr>\n",
       "      <th>2</th>\n",
       "      <td>I am not sure i fully agree with this and I kn...</td>\n",
       "      <td>1</td>\n",
       "      <td>-0.1252</td>\n",
       "    </tr>\n",
       "    <tr>\n",
       "      <th>3</th>\n",
       "      <td>Israeli to be tested in humans.</td>\n",
       "      <td>3</td>\n",
       "      <td>0.0000</td>\n",
       "    </tr>\n",
       "    <tr>\n",
       "      <th>4</th>\n",
       "      <td>Democratic presidential nominee Joe Biden pled...</td>\n",
       "      <td>1</td>\n",
       "      <td>0.5106</td>\n",
       "    </tr>\n",
       "    <tr>\n",
       "      <th>5</th>\n",
       "      <td>UK : selected by CEPI to test vaccines globally</td>\n",
       "      <td>3</td>\n",
       "      <td>0.0000</td>\n",
       "    </tr>\n",
       "    <tr>\n",
       "      <th>6</th>\n",
       "      <td>This year's MMS Interim Meeting Ethics Forum, ...</td>\n",
       "      <td>1</td>\n",
       "      <td>0.6597</td>\n",
       "    </tr>\n",
       "    <tr>\n",
       "      <th>7</th>\n",
       "      <td>police report individuals and establishments f...</td>\n",
       "      <td>3</td>\n",
       "      <td>-0.5267</td>\n",
       "    </tr>\n",
       "    <tr>\n",
       "      <th>8</th>\n",
       "      <td>Woo hoo!</td>\n",
       "      <td>3</td>\n",
       "      <td>0.5255</td>\n",
       "    </tr>\n",
       "    <tr>\n",
       "      <th>9</th>\n",
       "      <td>$PETV A low float Biotech thats ahead of the C...</td>\n",
       "      <td>3</td>\n",
       "      <td>-0.2732</td>\n",
       "    </tr>\n",
       "    <tr>\n",
       "      <th>10</th>\n",
       "      <td>Indian company along with becomes the th Insti...</td>\n",
       "      <td>3</td>\n",
       "      <td>0.2960</td>\n",
       "    </tr>\n",
       "    <tr>\n",
       "      <th>11</th>\n",
       "      <td>says its vaccine triggers immune response amon...</td>\n",
       "      <td>3</td>\n",
       "      <td>0.2960</td>\n",
       "    </tr>\n",
       "    <tr>\n",
       "      <th>12</th>\n",
       "      <td>The COVID-19 vaccine being developed by the Un...</td>\n",
       "      <td>1</td>\n",
       "      <td>-0.3612</td>\n",
       "    </tr>\n",
       "    <tr>\n",
       "      <th>13</th>\n",
       "      <td>Great news! has secured a second potential vac...</td>\n",
       "      <td>1</td>\n",
       "      <td>0.8478</td>\n",
       "    </tr>\n",
       "    <tr>\n",
       "      <th>14</th>\n",
       "      <td>There are &amp;gt;160 candidates being tested arou...</td>\n",
       "      <td>1</td>\n",
       "      <td>0.8047</td>\n",
       "    </tr>\n",
       "    <tr>\n",
       "      <th>15</th>\n",
       "      <td>I've registered to help the find a for Have you?</td>\n",
       "      <td>3</td>\n",
       "      <td>0.4019</td>\n",
       "    </tr>\n",
       "    <tr>\n",
       "      <th>16</th>\n",
       "      <td>EXCELLENT!! : AstraZeneca says its coronavirus...</td>\n",
       "      <td>1</td>\n",
       "      <td>0.8029</td>\n",
       "    </tr>\n",
       "    <tr>\n",
       "      <th>17</th>\n",
       "      <td>Turning to disparities in the pandemic, looks ...</td>\n",
       "      <td>3</td>\n",
       "      <td>0.2732</td>\n",
       "    </tr>\n",
       "    <tr>\n",
       "      <th>18</th>\n",
       "      <td>Even if the cases in Cyprus drop, the danger i...</td>\n",
       "      <td>3</td>\n",
       "      <td>-0.6705</td>\n",
       "    </tr>\n",
       "    <tr>\n",
       "      <th>19</th>\n",
       "      <td>AstraZeneca says its coronavirus vaccine trigg...</td>\n",
       "      <td>3</td>\n",
       "      <td>0.2960</td>\n",
       "    </tr>\n",
       "  </tbody>\n",
       "</table>\n",
       "</div>"
      ],
      "text/plain": [
       "                                            full_text  sentiment  VADER_score\n",
       "0   Thanks for having us back on your show to disc...          1       0.7430\n",
       "1                       \" : For Whom The Bell Tolls?\"          3       0.0000\n",
       "2   I am not sure i fully agree with this and I kn...          1      -0.1252\n",
       "3                     Israeli to be tested in humans.          3       0.0000\n",
       "4   Democratic presidential nominee Joe Biden pled...          1       0.5106\n",
       "5     UK : selected by CEPI to test vaccines globally          3       0.0000\n",
       "6   This year's MMS Interim Meeting Ethics Forum, ...          1       0.6597\n",
       "7   police report individuals and establishments f...          3      -0.5267\n",
       "8                                            Woo hoo!          3       0.5255\n",
       "9   $PETV A low float Biotech thats ahead of the C...          3      -0.2732\n",
       "10  Indian company along with becomes the th Insti...          3       0.2960\n",
       "11  says its vaccine triggers immune response amon...          3       0.2960\n",
       "12  The COVID-19 vaccine being developed by the Un...          1      -0.3612\n",
       "13  Great news! has secured a second potential vac...          1       0.8478\n",
       "14  There are &gt;160 candidates being tested arou...          1       0.8047\n",
       "15   I've registered to help the find a for Have you?          3       0.4019\n",
       "16  EXCELLENT!! : AstraZeneca says its coronavirus...          1       0.8029\n",
       "17  Turning to disparities in the pandemic, looks ...          3       0.2732\n",
       "18  Even if the cases in Cyprus drop, the danger i...          3      -0.6705\n",
       "19  AstraZeneca says its coronavirus vaccine trigg...          3       0.2960"
      ]
     },
     "execution_count": 8,
     "metadata": {},
     "output_type": "execute_result"
    }
   ],
   "source": [
    "#this script will create a file ('saved_tweets_vaderscore.csv')  which will assign vader score to the input file which has tweets \n",
    "\n",
    "import pandas as pd \n",
    "import numpy as np \n",
    "%matplotlib inline \n",
    "import nltk\n",
    "from nltk.sentiment.vader import SentimentIntensityAnalyzer\n",
    "\n",
    "analyser = SentimentIntensityAnalyzer()\n",
    "df = pd.read_csv(\"saved_tweets_without_sentiment.csv\") \n",
    "#df1=df.drop(columns=['user','location','date','Unnamed: 0'],axis=1)\n",
    "\n",
    "\n",
    "i=0 #counter\n",
    "\n",
    "compval1 = [ ]  #empty list to hold our computed 'compound' VADER scores\n",
    "\n",
    "\n",
    "while (i<len(df1)):\n",
    "\n",
    "    k = analyser.polarity_scores(df1.iloc[i]['full_text'])\n",
    "    compval1.append(k['compound'])\n",
    "    \n",
    "    i = i+1\n",
    "    \n",
    "#converting sentiment values to numpy for easier usage\n",
    "\n",
    "compval1 = np.array(compval1)\n",
    "\n",
    "len(compval1)\n",
    "\n",
    "df1['VADER_score'] = compval1\n",
    "df1.head(20)\n",
    "\n",
    "\n",
    "\n"
   ]
  },
  {
   "cell_type": "code",
   "execution_count": 9,
   "metadata": {},
   "outputs": [
    {
     "data": {
      "text/html": [
       "<div>\n",
       "<style scoped>\n",
       "    .dataframe tbody tr th:only-of-type {\n",
       "        vertical-align: middle;\n",
       "    }\n",
       "\n",
       "    .dataframe tbody tr th {\n",
       "        vertical-align: top;\n",
       "    }\n",
       "\n",
       "    .dataframe thead th {\n",
       "        text-align: right;\n",
       "    }\n",
       "</style>\n",
       "<table border=\"1\" class=\"dataframe\">\n",
       "  <thead>\n",
       "    <tr style=\"text-align: right;\">\n",
       "      <th></th>\n",
       "      <th>full_text</th>\n",
       "      <th>sentiment</th>\n",
       "      <th>VADER_score</th>\n",
       "      <th>predicted_sentiment</th>\n",
       "    </tr>\n",
       "  </thead>\n",
       "  <tbody>\n",
       "    <tr>\n",
       "      <th>0</th>\n",
       "      <td>Thanks for having us back on your show to disc...</td>\n",
       "      <td>1</td>\n",
       "      <td>0.7430</td>\n",
       "      <td>positive</td>\n",
       "    </tr>\n",
       "    <tr>\n",
       "      <th>1</th>\n",
       "      <td>\" : For Whom The Bell Tolls?\"</td>\n",
       "      <td>3</td>\n",
       "      <td>0.0000</td>\n",
       "      <td>negative</td>\n",
       "    </tr>\n",
       "    <tr>\n",
       "      <th>2</th>\n",
       "      <td>I am not sure i fully agree with this and I kn...</td>\n",
       "      <td>1</td>\n",
       "      <td>-0.1252</td>\n",
       "      <td>negative</td>\n",
       "    </tr>\n",
       "    <tr>\n",
       "      <th>3</th>\n",
       "      <td>Israeli to be tested in humans.</td>\n",
       "      <td>3</td>\n",
       "      <td>0.0000</td>\n",
       "      <td>negative</td>\n",
       "    </tr>\n",
       "    <tr>\n",
       "      <th>4</th>\n",
       "      <td>Democratic presidential nominee Joe Biden pled...</td>\n",
       "      <td>1</td>\n",
       "      <td>0.5106</td>\n",
       "      <td>neutral</td>\n",
       "    </tr>\n",
       "    <tr>\n",
       "      <th>5</th>\n",
       "      <td>UK : selected by CEPI to test vaccines globally</td>\n",
       "      <td>3</td>\n",
       "      <td>0.0000</td>\n",
       "      <td>negative</td>\n",
       "    </tr>\n",
       "    <tr>\n",
       "      <th>6</th>\n",
       "      <td>This year's MMS Interim Meeting Ethics Forum, ...</td>\n",
       "      <td>1</td>\n",
       "      <td>0.6597</td>\n",
       "      <td>neutral</td>\n",
       "    </tr>\n",
       "    <tr>\n",
       "      <th>7</th>\n",
       "      <td>police report individuals and establishments f...</td>\n",
       "      <td>3</td>\n",
       "      <td>-0.5267</td>\n",
       "      <td>negative</td>\n",
       "    </tr>\n",
       "    <tr>\n",
       "      <th>8</th>\n",
       "      <td>Woo hoo!</td>\n",
       "      <td>3</td>\n",
       "      <td>0.5255</td>\n",
       "      <td>neutral</td>\n",
       "    </tr>\n",
       "    <tr>\n",
       "      <th>9</th>\n",
       "      <td>$PETV A low float Biotech thats ahead of the C...</td>\n",
       "      <td>3</td>\n",
       "      <td>-0.2732</td>\n",
       "      <td>negative</td>\n",
       "    </tr>\n",
       "    <tr>\n",
       "      <th>10</th>\n",
       "      <td>Indian company along with becomes the th Insti...</td>\n",
       "      <td>3</td>\n",
       "      <td>0.2960</td>\n",
       "      <td>neutral</td>\n",
       "    </tr>\n",
       "    <tr>\n",
       "      <th>11</th>\n",
       "      <td>says its vaccine triggers immune response amon...</td>\n",
       "      <td>3</td>\n",
       "      <td>0.2960</td>\n",
       "      <td>neutral</td>\n",
       "    </tr>\n",
       "    <tr>\n",
       "      <th>12</th>\n",
       "      <td>The COVID-19 vaccine being developed by the Un...</td>\n",
       "      <td>1</td>\n",
       "      <td>-0.3612</td>\n",
       "      <td>negative</td>\n",
       "    </tr>\n",
       "    <tr>\n",
       "      <th>13</th>\n",
       "      <td>Great news! has secured a second potential vac...</td>\n",
       "      <td>1</td>\n",
       "      <td>0.8478</td>\n",
       "      <td>positive</td>\n",
       "    </tr>\n",
       "    <tr>\n",
       "      <th>14</th>\n",
       "      <td>There are &amp;gt;160 candidates being tested arou...</td>\n",
       "      <td>1</td>\n",
       "      <td>0.8047</td>\n",
       "      <td>positive</td>\n",
       "    </tr>\n",
       "    <tr>\n",
       "      <th>15</th>\n",
       "      <td>I've registered to help the find a for Have you?</td>\n",
       "      <td>3</td>\n",
       "      <td>0.4019</td>\n",
       "      <td>neutral</td>\n",
       "    </tr>\n",
       "    <tr>\n",
       "      <th>16</th>\n",
       "      <td>EXCELLENT!! : AstraZeneca says its coronavirus...</td>\n",
       "      <td>1</td>\n",
       "      <td>0.8029</td>\n",
       "      <td>positive</td>\n",
       "    </tr>\n",
       "    <tr>\n",
       "      <th>17</th>\n",
       "      <td>Turning to disparities in the pandemic, looks ...</td>\n",
       "      <td>3</td>\n",
       "      <td>0.2732</td>\n",
       "      <td>neutral</td>\n",
       "    </tr>\n",
       "    <tr>\n",
       "      <th>18</th>\n",
       "      <td>Even if the cases in Cyprus drop, the danger i...</td>\n",
       "      <td>3</td>\n",
       "      <td>-0.6705</td>\n",
       "      <td>negative</td>\n",
       "    </tr>\n",
       "    <tr>\n",
       "      <th>19</th>\n",
       "      <td>AstraZeneca says its coronavirus vaccine trigg...</td>\n",
       "      <td>3</td>\n",
       "      <td>0.2960</td>\n",
       "      <td>neutral</td>\n",
       "    </tr>\n",
       "  </tbody>\n",
       "</table>\n",
       "</div>"
      ],
      "text/plain": [
       "                                            full_text  sentiment  VADER_score  \\\n",
       "0   Thanks for having us back on your show to disc...          1       0.7430   \n",
       "1                       \" : For Whom The Bell Tolls?\"          3       0.0000   \n",
       "2   I am not sure i fully agree with this and I kn...          1      -0.1252   \n",
       "3                     Israeli to be tested in humans.          3       0.0000   \n",
       "4   Democratic presidential nominee Joe Biden pled...          1       0.5106   \n",
       "5     UK : selected by CEPI to test vaccines globally          3       0.0000   \n",
       "6   This year's MMS Interim Meeting Ethics Forum, ...          1       0.6597   \n",
       "7   police report individuals and establishments f...          3      -0.5267   \n",
       "8                                            Woo hoo!          3       0.5255   \n",
       "9   $PETV A low float Biotech thats ahead of the C...          3      -0.2732   \n",
       "10  Indian company along with becomes the th Insti...          3       0.2960   \n",
       "11  says its vaccine triggers immune response amon...          3       0.2960   \n",
       "12  The COVID-19 vaccine being developed by the Un...          1      -0.3612   \n",
       "13  Great news! has secured a second potential vac...          1       0.8478   \n",
       "14  There are &gt;160 candidates being tested arou...          1       0.8047   \n",
       "15   I've registered to help the find a for Have you?          3       0.4019   \n",
       "16  EXCELLENT!! : AstraZeneca says its coronavirus...          1       0.8029   \n",
       "17  Turning to disparities in the pandemic, looks ...          3       0.2732   \n",
       "18  Even if the cases in Cyprus drop, the danger i...          3      -0.6705   \n",
       "19  AstraZeneca says its coronavirus vaccine trigg...          3       0.2960   \n",
       "\n",
       "   predicted_sentiment  \n",
       "0             positive  \n",
       "1             negative  \n",
       "2             negative  \n",
       "3             negative  \n",
       "4              neutral  \n",
       "5             negative  \n",
       "6              neutral  \n",
       "7             negative  \n",
       "8              neutral  \n",
       "9             negative  \n",
       "10             neutral  \n",
       "11             neutral  \n",
       "12            negative  \n",
       "13            positive  \n",
       "14            positive  \n",
       "15             neutral  \n",
       "16            positive  \n",
       "17             neutral  \n",
       "18            negative  \n",
       "19             neutral  "
      ]
     },
     "execution_count": 9,
     "metadata": {},
     "output_type": "execute_result"
    }
   ],
   "source": [
    "\n",
    "#Assigning score categories and logic\n",
    "i = 0\n",
    "\n",
    "predicted_value = [ ] #empty series to hold our predicted values\n",
    "\n",
    "while(i<len(df1)): \n",
    "    if ((df1.iloc[i]['VADER_score'] >= 0.7)): \n",
    "        predicted_value.append('positive')\n",
    "        i = i+1\n",
    "    elif ((df1.iloc[i]['VADER_score'] > 0) & (df1.iloc[i]['VADER_score'] < 0.7)):\n",
    "        predicted_value.append('neutral')\n",
    "        i = i+1\n",
    "    elif ((df1.iloc[i]['VADER_score'] <= 0)):\n",
    "        predicted_value.append('negative')\n",
    "        i = i+1 \n",
    "df1['predicted_sentiment'] = predicted_value    \n",
    "len(df1['predicted_sentiment'])  \n",
    "df1.head(20) \n",
    "\n"
   ]
  },
  {
   "cell_type": "code",
   "execution_count": 10,
   "metadata": {},
   "outputs": [],
   "source": [
    "df1.to_csv('saved_tweets_vaderscore.csv')  "
   ]
  },
  {
   "cell_type": "markdown",
   "metadata": {},
   "source": [
    "# Code to train  classifiers using  tweets tagged by vader sentiment analyzer\n"
   ]
  },
  {
   "cell_type": "code",
   "execution_count": 16,
   "metadata": {},
   "outputs": [
    {
     "data": {
      "text/html": [
       "<div>\n",
       "<style scoped>\n",
       "    .dataframe tbody tr th:only-of-type {\n",
       "        vertical-align: middle;\n",
       "    }\n",
       "\n",
       "    .dataframe tbody tr th {\n",
       "        vertical-align: top;\n",
       "    }\n",
       "\n",
       "    .dataframe thead th {\n",
       "        text-align: right;\n",
       "    }\n",
       "</style>\n",
       "<table border=\"1\" class=\"dataframe\">\n",
       "  <thead>\n",
       "    <tr style=\"text-align: right;\">\n",
       "      <th></th>\n",
       "      <th>full_text</th>\n",
       "      <th>predicted_sentiment</th>\n",
       "    </tr>\n",
       "  </thead>\n",
       "  <tbody>\n",
       "    <tr>\n",
       "      <th>0</th>\n",
       "      <td>Thanks for having us back on your show to disc...</td>\n",
       "      <td>1</td>\n",
       "    </tr>\n",
       "    <tr>\n",
       "      <th>1</th>\n",
       "      <td>\" : For Whom The Bell Tolls?\"</td>\n",
       "      <td>2</td>\n",
       "    </tr>\n",
       "    <tr>\n",
       "      <th>2</th>\n",
       "      <td>I am not sure i fully agree with this and I kn...</td>\n",
       "      <td>2</td>\n",
       "    </tr>\n",
       "    <tr>\n",
       "      <th>3</th>\n",
       "      <td>Israeli to be tested in humans.</td>\n",
       "      <td>2</td>\n",
       "    </tr>\n",
       "    <tr>\n",
       "      <th>4</th>\n",
       "      <td>Democratic presidential nominee Joe Biden pled...</td>\n",
       "      <td>3</td>\n",
       "    </tr>\n",
       "  </tbody>\n",
       "</table>\n",
       "</div>"
      ],
      "text/plain": [
       "                                           full_text  predicted_sentiment\n",
       "0  Thanks for having us back on your show to disc...                    1\n",
       "1                      \" : For Whom The Bell Tolls?\"                    2\n",
       "2  I am not sure i fully agree with this and I kn...                    2\n",
       "3                    Israeli to be tested in humans.                    2\n",
       "4  Democratic presidential nominee Joe Biden pled...                    3"
      ]
     },
     "execution_count": 16,
     "metadata": {},
     "output_type": "execute_result"
    }
   ],
   "source": [
    "import numpy as np\n",
    "import pandas as pd\n",
    "import matplotlib.pyplot as plt\n",
    "import seaborn as sns\n",
    "from sklearn import svm\n",
    "from sklearn.metrics import classification_report\n",
    "from sklearn.feature_extraction.text import TfidfVectorizer\n",
    "from sklearn.svm import SVC\n",
    "from sklearn.model_selection import train_test_split\n",
    "from sklearn.metrics import make_scorer, accuracy_score, f1_score\n",
    "from sklearn.metrics import confusion_matrix, roc_auc_score, recall_score, precision_score\n",
    "\n",
    "\n",
    "df1 = pd.read_csv(\"saved_tweets_vaderscore.csv\")\n",
    "\n",
    "#Removing non-relevant variables\n",
    "df1=df1.drop(columns=['VADER_score','Unnamed: 0','sentiment'],axis=1)\n",
    "\n",
    "df1.predicted_sentiment.replace(('positive', 'negative','neutral'), (1,2,3), inplace=True)\n",
    "\n",
    "#defining target varibale\n",
    "df_target=df1[['predicted_sentiment']].values\n",
    "df_var=df1.drop(columns=['predicted_sentiment'],axis=1).values\n",
    "\n",
    "df1.head() \n",
    "#splitting dataset into training and testing \n",
    "\n",
    "\n",
    "\n",
    "\n"
   ]
  },
  {
   "cell_type": "code",
   "execution_count": 17,
   "metadata": {},
   "outputs": [
    {
     "name": "stdout",
     "output_type": "stream",
     "text": [
      "Vectoriser fitted.\n",
      "No. of feature_words:  32065\n",
      "Data Transformed.\n"
     ]
    }
   ],
   "source": [
    "X_train, X_test, y_train, y_test = train_test_split(df_var, df_target, test_size = 0.3, random_state = 0)\n",
    "\n",
    "vectoriser = TfidfVectorizer(ngram_range=(1,2), max_features=500000)\n",
    "vectoriser.fit(X_train.ravel())\n",
    "print(f'Vectoriser fitted.')\n",
    "print('No. of feature_words: ', len(vectoriser.get_feature_names()))\n",
    "X_train = vectoriser.transform(X_train.ravel())\n",
    "X_test  = vectoriser.transform(X_test.ravel())\n",
    "print('Data Transformed.')\n",
    "\n"
   ]
  },
  {
   "cell_type": "code",
   "execution_count": 18,
   "metadata": {},
   "outputs": [
    {
     "name": "stdout",
     "output_type": "stream",
     "text": [
      "              precision    recall  f1-score   support\n",
      "\n",
      "           1       0.82      0.77      0.80       152\n",
      "           2       0.93      0.84      0.88       585\n",
      "           3       0.79      0.89      0.84       527\n",
      "\n",
      "    accuracy                           0.85      1264\n",
      "   macro avg       0.85      0.83      0.84      1264\n",
      "weighted avg       0.86      0.85      0.85      1264\n",
      "\n",
      "Your Model Accuracy is 0.8536392405063291\n"
     ]
    },
    {
     "data": {
      "image/png": "[encoded data removed]",
      "text/plain": [
       "<Figure size 432x288 with 2 Axes>"
      ]
     },
     "metadata": {
      "needs_background": "light"
     },
     "output_type": "display_data"
    }
   ],
   "source": [
    "\n",
    "def model_Evaluate(model):\n",
    "    \n",
    "    # Predict values for Test dataset\n",
    "    y_pred = model.predict(X_test)\n",
    "\n",
    "    # Print the evaluation metrics for the dataset.\n",
    "    print(classification_report(y_test, y_pred))\n",
    "    \n",
    "    # Compute and plot the Confusion matrix\n",
    "    cf_matrix = confusion_matrix(y_test, y_pred)\n",
    "\n",
    "    categories  = ['Negative','Positive','Neutral']\n",
    "    group_names = ['True Neg','False Pos', 'False Neg','True Pos']\n",
    "    group_percentages = ['{0:.2%}'.format(value) for value in cf_matrix.flatten() / np.sum(cf_matrix)]\n",
    "    score=accuracy_score(y_test,y_pred) \n",
    "    print(\"Your Model Accuracy is\", score)\n",
    "    labels = [f'{v1}\\n{v2}' for v1, v2 in zip(group_names,group_percentages)]\n",
    "    labels = np.asarray(labels).reshape(2,2)\n",
    "\n",
    "    sns.heatmap(cf_matrix,  cmap = 'Blues',fmt = '',\n",
    "                xticklabels = categories, yticklabels = categories,annot=True)\n",
    "\n",
    "    plt.xlabel(\"Predicted values\", fontdict = {'size':14}, labelpad = 10)\n",
    "    plt.ylabel(\"Actual values\"   , fontdict = {'size':14}, labelpad = 10)\n",
    "    plt.title (\"Confusion Matrix\", fontdict = {'size':18}, pad = 20)\n",
    "    \n",
    "SVCmodel = svm.LinearSVC(random_state=20 ,C=80,tol=1e-5,max_iter=10000) \n",
    "SVCmodel.fit(X_train, y_train.ravel())\n",
    "model_Evaluate(SVCmodel)  \n",
    "\n",
    "\n"
   ]
  },
  {
   "cell_type": "code",
   "execution_count": 19,
   "metadata": {},
   "outputs": [
    {
     "name": "stdout",
     "output_type": "stream",
     "text": [
      "              precision    recall  f1-score   support\n",
      "\n",
      "           1       0.85      0.76      0.81       152\n",
      "           2       0.85      0.83      0.84       585\n",
      "           3       0.78      0.82      0.80       527\n",
      "\n",
      "    accuracy                           0.82      1264\n",
      "   macro avg       0.83      0.80      0.81      1264\n",
      "weighted avg       0.82      0.82      0.82      1264\n",
      "\n",
      "Your Model Accuracy is 0.8164556962025317\n"
     ]
    },
    {
     "data": {
      "image/png": "[encoded data removed]",
      "text/plain": [
       "<Figure size 432x288 with 2 Axes>"
      ]
     },
     "metadata": {
      "needs_background": "light"
     },
     "output_type": "display_data"
    }
   ],
   "source": [
    "from sklearn.tree import DecisionTreeClassifier\n",
    "\n",
    "# Create Decision Tree classifer object\n",
    "clf = DecisionTreeClassifier(criterion = \"entropy\", random_state = 100, max_depth = 60, min_samples_leaf =1,min_samples_split=2)\n",
    "# Train Decision Tree Classifer\n",
    "clf = clf.fit(X_train,y_train)\n",
    "\n",
    "#Predict the response for test dataset\n",
    "y_pred = clf.predict(X_test)\n",
    "model_Evaluate(clf)  "
   ]
  },
  {
   "cell_type": "code",
   "execution_count": 20,
   "metadata": {},
   "outputs": [
    {
     "name": "stdout",
     "output_type": "stream",
     "text": [
      "              precision    recall  f1-score   support\n",
      "\n",
      "           1       0.77      0.76      0.77       152\n",
      "           2       0.85      0.82      0.84       585\n",
      "           3       0.78      0.81      0.80       527\n",
      "\n",
      "    accuracy                           0.81      1264\n",
      "   macro avg       0.80      0.80      0.80      1264\n",
      "weighted avg       0.81      0.81      0.81      1264\n",
      "\n",
      "Your Model Accuracy is 0.8109177215189873\n"
     ]
    },
    {
     "data": {
      "image/png": "[encoded data removed]",
      "text/plain": [
       "<Figure size 432x288 with 2 Axes>"
      ]
     },
     "metadata": {
      "needs_background": "light"
     },
     "output_type": "display_data"
    }
   ],
   "source": [
    "# DecisionTree classifier \n",
    "clf_gini = DecisionTreeClassifier(criterion = \"gini\", random_state = 100,max_depth=100, min_samples_leaf=1,min_samples_split=2) \n",
    " \n",
    "clf_gini.fit(X_train, y_train) \n",
    "\n",
    "model_Evaluate(clf_gini)  "
   ]
  },
  {
   "cell_type": "markdown",
   "metadata": {},
   "source": [
    "# Code to create graphs "
   ]
  },
  {
   "cell_type": "code",
   "execution_count": 22,
   "metadata": {},
   "outputs": [
    {
     "data": {
      "text/plain": [
       "<matplotlib.axes._subplots.AxesSubplot at 0x7ffb7bc82d60>"
      ]
     },
     "execution_count": 22,
     "metadata": {},
     "output_type": "execute_result"
    },
    {
     "data": {
      "image/png": "[encoded data removed]",
      "text/plain": [
       "<Figure size 792x360 with 2 Axes>"
      ]
     },
     "metadata": {
      "needs_background": "light"
     },
     "output_type": "display_data"
    }
   ],
   "source": [
    "import pandas as pd \n",
    "import seaborn as sns\n",
    "import matplotlib.pyplot as plt\n",
    "\n",
    "fig, axes = plt.subplots(2, 2, figsize=(11,5))\n",
    "\n",
    "\n",
    "data1 = pd.read_csv('saved_tweets_28octfull.csv')\n",
    "data2 = pd.read_csv('saved_tweets_6nov.csv')\n",
    "\n",
    "plt.subplot(1,2,1)\n",
    "plt.title('OCT LAST WEEK')\n",
    "ax=sns.countplot(x ='sentiment',data = data1) \n",
    "plt.subplot(1,2,2)\n",
    "plt.title('NOV 1 WEEK')\n",
    "sns.countplot(x ='sentiment',data = data2)\n",
    "\n"
   ]
  },
  {
   "cell_type": "code",
   "execution_count": 23,
   "metadata": {},
   "outputs": [
    {
     "data": {
      "text/plain": [
       "<matplotlib.axes._subplots.AxesSubplot at 0x7ffb7b3dc700>"
      ]
     },
     "execution_count": 23,
     "metadata": {},
     "output_type": "execute_result"
    },
    {
     "data": {
      "image/png": "[encoded data removed]",
      "text/plain": [
       "<Figure size 792x360 with 2 Axes>"
      ]
     },
     "metadata": {
      "needs_background": "light"
     },
     "output_type": "display_data"
    }
   ],
   "source": [
    "import pandas as pd \n",
    "import seaborn as sns\n",
    "import matplotlib.pyplot as plt\n",
    "\n",
    "fig, axes = plt.subplots(2, 2, sharex=True, figsize=(11,5))\n",
    "\n",
    "\n",
    "data1 = pd.read_csv('saved_tweets_14nov.csv')\n",
    "data2 = pd.read_csv('saved_tweets_23nov.csv')\n",
    "\n",
    "plt.subplot(1,2,1)\n",
    "plt.title('NOV SECOND WEEK')\n",
    "ax=sns.countplot(x ='sentiment',data = data1) \n",
    "plt.subplot(1,2,2)\n",
    "plt.title('NOV THIRD WEEK')\n",
    "sns.countplot(x ='sentiment',data = data2)\n",
    "\n",
    "\n",
    "\n",
    "\n"
   ]
  },
  {
   "cell_type": "code",
   "execution_count": 24,
   "metadata": {},
   "outputs": [
    {
     "data": {
      "image/png": "[encoded data removed]",
      "text/plain": [
       "<Figure size 504x360 with 1 Axes>"
      ]
     },
     "metadata": {
      "needs_background": "light"
     },
     "output_type": "display_data"
    }
   ],
   "source": [
    "import matplotlib\n",
    "import matplotlib.pyplot as plt\n",
    "import numpy as np\n",
    "\n",
    "\n",
    "labels = ['positive', 'negative', 'neutral']\n",
    "SVM = [0.84,0.91,0.88] \n",
    "Decsion_Tree_entropy = [0.90,0.88,0.81]\n",
    "Decsion_Tree_gini =[0.84,0.76,0.79]\n",
    "x = np.arange(len(labels))# the label locations\n",
    "width = 0.18  # the width of the bars\n",
    "\n",
    "fig, ax = plt.subplots(figsize=(7,5),sharex=False, sharey=False, squeeze=True) \n",
    "rects1 = ax.bar(x - width/2, SVM, width, label='SVM')\n",
    "rects2 = ax.bar(x + width/2, Decsion_Tree_entropy, width, label='Decsion_Tree_entropy')\n",
    "rects3 = ax.bar(x + width/2+width/2+width/2, Decsion_Tree_gini, width, label='Decsion_Tree_gini')\n",
    "ax.set_ylim(0,1.3)\n",
    "# Add some text for labels, title and custom x-axis tick labels, etc.\n",
    "ax.set_ylabel('Precision') \n",
    "ax.set_title('Precision  value of classifiers for positive, negative and neutral tweets')\n",
    "ax.set_xticks(x)\n",
    "ax.set_xticklabels(labels)\n",
    "ax.legend(loc =\"upper right\")\n",
    "\n",
    "\n",
    "def autolabel(rects):\n",
    "    \"\"\"Attach a text label above each bar in *rects*, displaying its height.\"\"\"\n",
    "    for rect in rects:\n",
    "        height = rect.get_height()\n",
    "        ax.annotate('{}'.format(height),\n",
    "                    xy=(rect.get_x() + rect.get_width() / 2 , height),\n",
    "                    xytext=(0,3),textcoords=\"offset points\", ha='center', va='bottom')\n",
    "\n",
    "\n",
    "autolabel(rects1)\n",
    "autolabel(rects2)\n",
    "autolabel(rects3) \n",
    "\n",
    "fig.tight_layout()\n",
    "\n",
    "plt.show()"
   ]
  },
  {
   "cell_type": "code",
   "execution_count": null,
   "metadata": {},
   "outputs": [],
   "source": []
  }
 ],
 "metadata": {
  "kernelspec": {
   "display_name": "Python 3",
   "language": "python",
   "name": "python3"
  },
  "language_info": {
   "codemirror_mode": {
    "name": "ipython",
    "version": 3
   },
   "file_extension": ".py",
   "mimetype": "text/x-python",
   "name": "python",
   "nbconvert_exporter": "python",
   "pygments_lexer": "ipython3",
   "version": "3.8.3"
  }
 },
 "nbformat": 4,
 "nbformat_minor": 4
}
